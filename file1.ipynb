{
 "cells": [
  {
   "cell_type": "code",
   "execution_count": null,
   "metadata": {},
   "outputs": [],
   "source": [
    "import numpy as np \n",
    "import pandas as pd\n",
    "import seaborn as sns"
   ]
  },
  {
   "cell_type": "code",
   "execution_count": null,
   "metadata": {},
   "outputs": [],
   "source": [
    "df_train=pd.read_csv('train.csv')\n",
    "df_test=pd.read_csv('test.csv')\n",
    "pd.set_option('display.max_columns', None)"
   ]
  },
  {
   "cell_type": "code",
   "execution_count": null,
   "metadata": {},
   "outputs": [],
   "source": [
    "df_train.head()"
   ]
  },
  {
   "cell_type": "code",
   "execution_count": null,
   "metadata": {},
   "outputs": [],
   "source": [
    "df_train.describe().T"
   ]
  },
  {
   "cell_type": "code",
   "execution_count": null,
   "metadata": {},
   "outputs": [],
   "source": [
    "df_train.isnull().sum().sum()"
   ]
  },
  {
   "cell_type": "code",
   "execution_count": null,
   "metadata": {},
   "outputs": [],
   "source": [
    "df_train.shape"
   ]
  },
  {
   "cell_type": "code",
   "execution_count": null,
   "metadata": {},
   "outputs": [],
   "source": [
    "df_train.columns"
   ]
  },
  {
   "cell_type": "code",
   "execution_count": null,
   "metadata": {},
   "outputs": [],
   "source": [
    "df_train.info()"
   ]
  },
  {
   "cell_type": "code",
   "execution_count": null,
   "metadata": {},
   "outputs": [],
   "source": [
    "df_train.drop"
   ]
  },
  {
   "cell_type": "code",
   "execution_count": null,
   "metadata": {},
   "outputs": [],
   "source": [
    "\n",
    "object_col=df_train.select_dtypes(include=['object'])\n",
    "intcol=df_train.select_dtypes(include=['int64','float64'])\n"
   ]
  },
  {
   "cell_type": "code",
   "execution_count": null,
   "metadata": {},
   "outputs": [],
   "source": [
    "df_train[object_col.columns] = df_train[object_col.columns].fillna(df_train[object_col.columns].mode().iloc[0])\n",
    "df_train[intcol.columns] = df_train[intcol.columns].fillna(df_train[intcol.columns].mean()) "
   ]
  },
  {
   "cell_type": "code",
   "execution_count": null,
   "metadata": {},
   "outputs": [],
   "source": [
    "from sklearn.preprocessing import LabelEncoder, StandardScaler\n",
    "target_col='target'\n",
    "# # Scale numerical features\n",
    "numerical_columns = df_train.select_dtypes(include=['int64', 'float64']).columns\n",
    "numerical_columns = numerical_columns.drop(target_col) \n",
    "scaler = StandardScaler()\n",
    "df_train[numerical_columns] = scaler.fit_transform(df_train[numerical_columns])"
   ]
  },
  {
   "cell_type": "code",
   "execution_count": null,
   "metadata": {},
   "outputs": [],
   "source": [
    "categorical_columns = df_train.select_dtypes(include=['object']).columns\n",
    "label_encoders = {}\n",
    "for col in categorical_columns:\n",
    "    label_encoders[col] = LabelEncoder()\n",
    "    df_train[col] = label_encoders[col].fit_transform(df_train[col])"
   ]
  },
  {
   "cell_type": "code",
   "execution_count": null,
   "metadata": {},
   "outputs": [],
   "source": [
    "# Step 1: Identify Binary Ordinal Features\n",
    "binary_features = [col for col in df_train.columns if df_train[col].nunique() == 2]\n",
    "\n",
    "# Step 2: Identify Ordinal Features (discrete numeric features with small integer values)\n",
    "ordinal_features = []\n",
    "for col in df_train.columns:\n",
    "    if df_train[col].dtype in ['int64']: # Check for numeric columns\n",
    "        unique_values = df_train[col].unique()\n",
    "        if len(unique_values) > 2 and all(value == int(value) for value in unique_values): # Check if all values are integers\n",
    "            ordinal_features.append(col)\n"
   ]
  },
  {
   "cell_type": "code",
   "execution_count": null,
   "metadata": {},
   "outputs": [],
   "source": [
    "# List of float columns to convert (replace with your actual column names)\n",
    "float_columns = [\n",
    "    'RealTimeProtectionState', 'AntivirusConfigID', 'NumAntivirusProductsInstalled', \n",
    "    'CityID', 'GeoRegionID', 'IsSystemProtected', 'SMode', 'IEVersionID', \n",
    "    'FirewallEnabled', 'EnableLUA', 'OEMNameID', 'OEMModelID',\n",
    "    'ProcessorCoreCount', 'ProcessorManufacturerID', 'ProcessorModelID',\n",
    "    'PrimaryDiskCapacityMB', 'SystemVolumeCapacityMB', 'TotalPhysicalRAMMB',\n",
    "    'PrimaryDisplayDiagonalInches', 'PrimaryDisplayResolutionHorizontal',\n",
    "    'PrimaryDisplayResolutionVertical', 'OSInstallLanguageID',\n",
    "    'IsFlightsDisabled', 'FirmwareManufacturerID','NumAntivirusProductsEnabled','IsAlwaysOnAlwaysConnectedCapable', \n",
    "    'IsGamer','RegionIdentifier','IsVirtualDevice','FirmwareVersionID'\n",
    "\n",
    "]\n",
    "\n",
    "# Ensure all columns exist in the DataFrame\n",
    "missing_columns = [col for col in float_columns if col not in df_train.columns]\n",
    "if missing_columns:\n",
    "    print(f\"Missing columns: {missing_columns}\")\n",
    "else:\n",
    "    # Fill missing values and convert to int\n",
    "    df_train[float_columns] = df_train[float_columns].fillna(-1).astype(int)\n"
   ]
  },
  {
   "cell_type": "code",
   "execution_count": null,
   "metadata": {},
   "outputs": [],
   "source": [
    "df_train.isnull().sum().sum()"
   ]
  },
  {
   "cell_type": "code",
   "execution_count": null,
   "metadata": {},
   "outputs": [],
   "source": [
    "# df_train = df_train.drop(columns=['PlatformType', 'OSVersion', 'HasTpm', 'SMode',\n",
    "#                                   'ProductName', 'IsPortableOS', 'DeviceFamily',\n",
    "#                                   'IsBetaUser', 'AutoSampleSubmissionEnabled',\n",
    "#                                   'IsFlightsDisabled','RealTimeProtectionState','OSArchitecture','FirewallEnabled','IsPenCapable',\n",
    "#                                 'NumAntivirusProductsEnabled','IsAlwaysOnAlwaysConnectedCapable','IEVersionID',\n",
    "#                                 'IsPassiveModeEnabled','IsVirtualDevice','EnableLUA'])\n"
   ]
  },
  {
   "cell_type": "code",
   "execution_count": null,
   "metadata": {},
   "outputs": [],
   "source": []
  },
  {
   "cell_type": "code",
   "execution_count": null,
   "metadata": {},
   "outputs": [],
   "source": [
    "X = df_train.drop(columns=['target'])\n",
    "y = df_train['target']"
   ]
  },
  {
   "cell_type": "code",
   "execution_count": null,
   "metadata": {},
   "outputs": [],
   "source": [
    "from sklearn.model_selection import train_test_split\n",
    "\n",
    "# Split data into training and testing sets (80:20 split)\n",
    "X_train, X_test, y_train, y_test = train_test_split(X, y, test_size=0.1, random_state=42, stratify=y)\n",
    "\n",
    "print(f\"\\nTraining Set Shape: {X_train.shape}\")\n",
    "print(f\"Testing Set Shape: {X_test.shape}\")\n"
   ]
  },
  {
   "cell_type": "markdown",
   "metadata": {},
   "source": [
    "# GradientBoostingClassifier"
   ]
  },
  {
   "cell_type": "code",
   "execution_count": null,
   "metadata": {},
   "outputs": [],
   "source": [
    "from sklearn.ensemble import GradientBoostingClassifier\n",
    "\n",
    "# Initialize Gradient Boosting Classifier\n",
    "classifier = GradientBoostingClassifier(random_state=42)\n",
    "\n",
    "# Train the model on the training set\n",
    "classifier.fit(X_train, y_train)\n",
    "\n",
    "print(\"\\nModel Training Completed.\")\n"
   ]
  },
  {
   "cell_type": "code",
   "execution_count": null,
   "metadata": {},
   "outputs": [],
   "source": [
    "from sklearn.metrics import classification_report, confusion_matrix\n",
    "\n",
    "# Predict on test data\n",
    "y_pred = classifier.predict(X_test)\n",
    "\n",
    "# Evaluate model performance\n",
    "print(\"\\nClassification Report:\")\n",
    "print(classification_report(y_test, y_pred))\n",
    "\n",
    "print(\"\\nConfusion Matrix:\")\n",
    "print(confusion_matrix(y_test, y_pred))\n"
   ]
  },
  {
   "cell_type": "code",
   "execution_count": null,
   "metadata": {},
   "outputs": [],
   "source": [
    "from sklearn.metrics import accuracy_score, classification_report\n",
    "y_pred = classifier.predict(X_test)\n",
    "print(\"Accuracy:\", accuracy_score(y_test, y_pred))\n",
    "print(\"Classification Report:\\n\", classification_report(y_test, y_pred))"
   ]
  },
  {
   "cell_type": "markdown",
   "metadata": {},
   "source": [
    "# LogisticRegression"
   ]
  },
  {
   "cell_type": "code",
   "execution_count": null,
   "metadata": {},
   "outputs": [],
   "source": [
    "from sklearn.linear_model import LogisticRegression\n",
    "\n",
    "model1 = LogisticRegression()\n",
    "model1.fit(X_train, y_train)\n",
    "y_pred1 = model1.predict(X_test)"
   ]
  },
  {
   "cell_type": "code",
   "execution_count": null,
   "metadata": {},
   "outputs": [],
   "source": [
    "y_pred1 = model1.predict(X_test)\n",
    "print(\"Accuracy:\", accuracy_score(y_test, y_pred))\n",
    "print(\"Classification Report:\\n\", classification_report(y_test, y_pred))"
   ]
  },
  {
   "cell_type": "markdown",
   "metadata": {},
   "source": [
    "# "
   ]
  },
  {
   "cell_type": "markdown",
   "metadata": {},
   "source": [
    "# KNeighborsClassifier"
   ]
  },
  {
   "cell_type": "code",
   "execution_count": null,
   "metadata": {},
   "outputs": [],
   "source": [
    "from sklearn.neighbors import KNeighborsClassifier\n",
    "\n",
    "model2 = KNeighborsClassifier(n_neighbors=5)\n",
    "model2.fit(X_train, y_train)\n",
    "y_pred2 = model2.predict(X_test)"
   ]
  },
  {
   "cell_type": "code",
   "execution_count": null,
   "metadata": {},
   "outputs": [],
   "source": [
    "from sklearn.metrics import accuracy_score, classification_report\n",
    "\n",
    "y_pred2 = model2.predict(X_test)\n",
    "print(\"Accuracy:\", accuracy_score(y_test, y_pred))\n",
    "print(\"Classification Report:\\n\", classification_report(y_test, y_pred))"
   ]
  },
  {
   "cell_type": "code",
   "execution_count": null,
   "metadata": {},
   "outputs": [],
   "source": [
    "# submission = pd.DataFrame({\n",
    "#     'id':  range(len(df_test)),  # Replace 'ID' with your test dataset's ID column name\n",
    "#     'target': y_pred2  # Replace 'target' with your predicted values column name\n",
    "# })\n",
    "\n",
    "# # Save to CSV\n",
    "# submission.to_csv('submission.csv', index=False)\n",
    "\n",
    "# print(\"Submission file created successfully!\")"
   ]
  },
  {
   "cell_type": "code",
   "execution_count": null,
   "metadata": {},
   "outputs": [],
   "source": [
    "y_pred1 = model1.predict(X_test)\n",
    "print(\"Accuracy:\", accuracy_score(y_test, y_pred))\n",
    "print(\"Classification Report:\\n\", classification_report(y_test, y_pred))"
   ]
  },
  {
   "cell_type": "code",
   "execution_count": null,
   "metadata": {},
   "outputs": [],
   "source": [
    "y_pred = classifier.predict(X_test)\n",
    "print(\"Accuracy:\", accuracy_score(y_test, y_pred))\n",
    "print(\"Classification Report:\\n\", classification_report(y_test, y_pred))"
   ]
  },
  {
   "cell_type": "markdown",
   "metadata": {},
   "source": [
    "# Test Data"
   ]
  },
  {
   "cell_type": "code",
   "execution_count": null,
   "metadata": {},
   "outputs": [],
   "source": [
    "object_col_test=df_test.select_dtypes(include=['object'])\n",
    "intcol_test=df_test.select_dtypes(include=['int64','float64'])"
   ]
  },
  {
   "cell_type": "code",
   "execution_count": null,
   "metadata": {},
   "outputs": [],
   "source": [
    "df_test[object_col_test.columns] = df_test[object_col_test.columns].fillna(df_test[object_col_test.columns].mode().iloc[0])\n",
    "df_test[intcol_test.columns] = df_test[intcol_test.columns].fillna(df_test[intcol_test.columns].mean()) "
   ]
  },
  {
   "cell_type": "code",
   "execution_count": null,
   "metadata": {},
   "outputs": [],
   "source": [
    "from sklearn.preprocessing import LabelEncoder, StandardScaler\n",
    "\n",
    "# Scale numerical features\n",
    "numerical_columns_test = df_test.select_dtypes(include=['int64', 'float64']).columns\n",
    "scaler = StandardScaler()\n",
    "df_test[numerical_columns_test] = scaler.fit_transform(df_test[numerical_columns_test])"
   ]
  },
  {
   "cell_type": "code",
   "execution_count": null,
   "metadata": {},
   "outputs": [],
   "source": [
    "from sklearn.preprocessing import LabelEncoder, StandardScaler\n",
    "\n",
    "# # Scale numerical features\n",
    "numerical_columns_test = df_test.select_dtypes(include=['int64', 'float64']).columns\n",
    "\n",
    "scaler = StandardScaler()\n",
    "df_test[numerical_columns_test] = scaler.fit_transform(df_test[numerical_columns_test])"
   ]
  },
  {
   "cell_type": "code",
   "execution_count": null,
   "metadata": {},
   "outputs": [],
   "source": [
    "categorical_columns_test = df_test.select_dtypes(include=['object']).columns\n",
    "label_encoders = {}\n",
    "for col_test in categorical_columns_test:\n",
    "    label_encoders[col_test] = LabelEncoder()\n",
    "    df_test[col_test] = label_encoders[col_test].fit_transform(df_test[col_test])"
   ]
  },
  {
   "cell_type": "code",
   "execution_count": null,
   "metadata": {},
   "outputs": [],
   "source": [
    "float_columns = [\n",
    "    'RealTimeProtectionState', 'AntivirusConfigID', 'NumAntivirusProductsInstalled', \n",
    "    'CityID', 'GeoRegionID', 'IsSystemProtected', 'SMode', 'IEVersionID', \n",
    "    'FirewallEnabled', 'EnableLUA', 'OEMNameID', 'OEMModelID',\n",
    "    'ProcessorCoreCount', 'ProcessorManufacturerID', 'ProcessorModelID',\n",
    "    'PrimaryDiskCapacityMB', 'SystemVolumeCapacityMB', 'TotalPhysicalRAMMB',\n",
    "    'PrimaryDisplayDiagonalInches', 'PrimaryDisplayResolutionHorizontal',\n",
    "    'PrimaryDisplayResolutionVertical', 'OSInstallLanguageID',\n",
    "    'IsFlightsDisabled', 'FirmwareManufacturerID','NumAntivirusProductsEnabled','IsAlwaysOnAlwaysConnectedCapable', \n",
    "    'IsGamer','RegionIdentifier','IsVirtualDevice','FirmwareVersionID'\n",
    "\n",
    "]\n",
    "\n",
    "# Ensure all columns exist in the DataFrame\n",
    "missing_columns = [col for col in float_columns if col not in df_test.columns]\n",
    "if missing_columns:\n",
    "    print(f\"Missing columns: {missing_columns}\")\n",
    "else:\n",
    "    # Fill missing values and convert to int\n",
    "    df_test[float_columns] = df_test[float_columns].fillna(-1).astype(int)"
   ]
  },
  {
   "cell_type": "code",
   "execution_count": null,
   "metadata": {},
   "outputs": [],
   "source": [
    "df_test = df_test.drop(columns=['PlatformType', 'OSVersion', 'HasTpm', 'SMode',\n",
    "                                  'ProductName', 'IsPortableOS', 'DeviceFamily',\n",
    "                                  'IsBetaUser', 'AutoSampleSubmissionEnabled',\n",
    "                                  'IsFlightsDisabled','RealTimeProtectionState','OSArchitecture','FirewallEnabled','IsPenCapable',\n",
    "                                'NumAntivirusProductsEnabled','IsAlwaysOnAlwaysConnectedCapable','IEVersionID',\n",
    "                                'IsPassiveModeEnabled','IsVirtualDevice','EnableLUA'])"
   ]
  },
  {
   "cell_type": "code",
   "execution_count": null,
   "metadata": {},
   "outputs": [],
   "source": [
    "y_pred_test = classifier.predict(df_test)\n",
    "print(\"Accuracy:\", accuracy_score(y_test, y_pred_test))\n",
    "print(\"Classification Report:\\n\", classification_report(y_test, y_pred_test))\n"
   ]
  },
  {
   "cell_type": "code",
   "execution_count": null,
   "metadata": {},
   "outputs": [],
   "source": [
    "y_pred1_test = model1.predict(df_test)\n",
    "print(\"Accuracy:\", accuracy_score(y_test, y_pred1_test))\n",
    "print(\"Classification Report:\\n\", classification_report(y_test, y_pred1_test))"
   ]
  },
  {
   "cell_type": "code",
   "execution_count": null,
   "metadata": {},
   "outputs": [],
   "source": [
    "y_pred2_test = model2.predict(X_test)\n",
    "print(\"Accuracy:\", accuracy_score(y_test, y_pred2_test))\n",
    "print(\"Classification Report:\\n\", classification_report(y_test, y_pred2_test))"
   ]
  },
  {
   "cell_type": "code",
   "execution_count": null,
   "metadata": {},
   "outputs": [],
   "source": [
    "submission = pd.DataFrame({\n",
    "    'id':  range(len(df_test)),  # Replace 'ID' with your test dataset's ID column name\n",
    "    'target': y_pred2_test   # Replace 'target' with your predicted values column name\n",
    "})\n",
    "\n",
    "# Save to CSV\n",
    "submission.to_csv('submission.csv', index=False)\n",
    "\n",
    "print(\"Submission file created successfully!\")"
   ]
  },
  {
   "cell_type": "code",
   "execution_count": null,
   "metadata": {},
   "outputs": [],
   "source": [
    "# submission = pd.DataFrame({\n",
    "#     'id':  range(len(df_test)),  # Replace 'ID' with your test dataset's ID column name\n",
    "#     'target': y_pred1_test   # Replace 'target' with your predicted values column name\n",
    "# })\n",
    "\n",
    "# # Save to CSV\n",
    "# submission.to_csv('submission.csv', index=False)\n",
    "\n",
    "# print(\"Submission file created successfully!\")"
   ]
  },
  {
   "cell_type": "code",
   "execution_count": null,
   "metadata": {},
   "outputs": [],
   "source": [
    "from sklearn.ensemble import RandomForestClassifier\n",
    "import pandas as pd\n",
    "\n",
    "# Example dataset (replace X_train, y_train with your actual data)\n",
    "X = df_train.drop(columns=['target'])  # Features\n",
    "y = df_train['target']  # Target variable\n",
    "\n",
    "# Train a Random Forest model\n",
    "model = RandomForestClassifier(random_state=42)\n",
    "model.fit(X, y)\n",
    "\n",
    "# Get feature importance\n",
    "feature_importances = pd.DataFrame({\n",
    "    'Feature': X.columns,\n",
    "    'Importance': model.feature_importances_\n",
    "})\n",
    "\n",
    "# Sort features by importance\n",
    "feature_importances = feature_importances.sort_values(by='Importance', ascending=False)\n",
    "\n",
    "print(\"Feature Importances:\")\n",
    "print(feature_importances)\n"
   ]
  },
  {
   "cell_type": "code",
   "execution_count": null,
   "metadata": {},
   "outputs": [],
   "source": [
    "feature_importances.tail(20)"
   ]
  },
  {
   "cell_type": "code",
   "execution_count": null,
   "metadata": {},
   "outputs": [],
   "source": [
    "# df_train.drop(columns=['PlatformType','OSVersion','HasTpm','SMode','ProductName','IsPortableOS','DeviceFamily','IsBetaUser','\tAutoSampleSubmissionEnabled','IsFlightsDisabled'])"
   ]
  },
  {
   "cell_type": "code",
   "execution_count": null,
   "metadata": {},
   "outputs": [],
   "source": [
    "# df_train.drop(columns=['RealTimeProtectionState','OSArchitecture','FirewallEnabled','IsPenCapable','NumAntivirusProductsEnabled','IsAlwaysOnAlwaysConnectedCapable','IEVersionID','IsPassiveModeEnabled','IsVirtualDevice','EnableLUA'])"
   ]
  },
  {
   "cell_type": "code",
   "execution_count": null,
   "metadata": {},
   "outputs": [],
   "source": [
    "from sklearn.feature_selection import RFE\n",
    "from sklearn.linear_model import LogisticRegression\n",
    "\n",
    "# Initialize the model\n",
    "model = LogisticRegression()\n",
    "\n",
    "# Perform Recursive Feature Elimination (RFE)\n",
    "rfe = RFE(estimator=model, n_features_to_select=10)  # Select top 10 features\n",
    "rfe.fit(X, y)\n",
    "\n",
    "# Get selected features\n",
    "selected_features = X.columns[rfe.support_]\n",
    "print(\"Selected Features:\", selected_features)\n"
   ]
  },
  {
   "cell_type": "code",
   "execution_count": null,
   "metadata": {},
   "outputs": [],
   "source": [
    "feature_importances.head(10)"
   ]
  },
  {
   "cell_type": "code",
   "execution_count": null,
   "metadata": {},
   "outputs": [],
   "source": [
    "from sklearn.inspection import permutation_importance\n",
    "\n",
    "# Train a model (e.g., Random Forest)\n",
    "model = RandomForestClassifier(random_state=42)\n",
    "model.fit(X, y)\n",
    "\n",
    "# Calculate permutation importance\n",
    "perm_importance = permutation_importance(model, X, y, scoring='accuracy')\n",
    "\n",
    "# Display results in descending order of importance\n",
    "perm_results = pd.DataFrame({\n",
    "    'Feature': X.columns,\n",
    "    'Importance': perm_importance.importances_mean\n",
    "}).sort_values(by='Importance', ascending=False)\n",
    "\n",
    "print(\"Permutation Importances:\")\n",
    "print(perm_results)\n"
   ]
  }
 ],
 "metadata": {
  "kernelspec": {
   "display_name": "Python 3",
   "language": "python",
   "name": "python3"
  },
  "language_info": {
   "codemirror_mode": {
    "name": "ipython",
    "version": 3
   },
   "file_extension": ".py",
   "mimetype": "text/x-python",
   "name": "python",
   "nbconvert_exporter": "python",
   "pygments_lexer": "ipython3",
   "version": "3.12.3"
  }
 },
 "nbformat": 4,
 "nbformat_minor": 2
}
