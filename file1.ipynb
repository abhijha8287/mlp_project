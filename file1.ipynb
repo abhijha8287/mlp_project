{
 "cells": [
  {
   "cell_type": "code",
   "execution_count": 2,
   "metadata": {},
   "outputs": [],
   "source": [
    "import numpy as np \n",
    "import pandas as pd\n",
    "import seaborn as sns"
   ]
  },
  {
   "cell_type": "code",
   "execution_count": 117,
   "metadata": {},
   "outputs": [],
   "source": [
    "df_train=pd.read_csv('train.csv')\n",
    "df_test=pd.read_csv('test.csv')\n",
    "pd.set_option('display.max_columns', None)"
   ]
  },
  {
   "cell_type": "code",
   "execution_count": null,
   "metadata": {},
   "outputs": [],
   "source": [
    "df_train.head()"
   ]
  },
  {
   "cell_type": "code",
   "execution_count": null,
   "metadata": {},
   "outputs": [],
   "source": [
    "df_train.describe().T"
   ]
  },
  {
   "cell_type": "code",
   "execution_count": null,
   "metadata": {},
   "outputs": [],
   "source": [
    "df_train.isnull().sum().sum()"
   ]
  },
  {
   "cell_type": "code",
   "execution_count": null,
   "metadata": {},
   "outputs": [],
   "source": [
    "df_train.shape"
   ]
  },
  {
   "cell_type": "code",
   "execution_count": null,
   "metadata": {},
   "outputs": [],
   "source": [
    "df_train.columns"
   ]
  },
  {
   "cell_type": "code",
   "execution_count": null,
   "metadata": {},
   "outputs": [],
   "source": [
    "df_train.info()"
   ]
  },
  {
   "cell_type": "code",
   "execution_count": 45,
   "metadata": {},
   "outputs": [],
   "source": [
    "\n",
    "object_col=df_train.select_dtypes(include=['object'])\n",
    "intcol=df_train.select_dtypes(include=['int64','float64'])\n"
   ]
  },
  {
   "cell_type": "code",
   "execution_count": 130,
   "metadata": {},
   "outputs": [],
   "source": [
    "df_train[object_col.columns] = df_train[object_col.columns].fillna(df_train[object_col.columns].mode().iloc[0])\n",
    "df_train[intcol.columns] = df_train[intcol.columns].fillna(df_train[intcol.columns].mean()) "
   ]
  },
  {
   "cell_type": "code",
   "execution_count": 195,
   "metadata": {},
   "outputs": [],
   "source": [
    "from sklearn.preprocessing import LabelEncoder, StandardScaler\n",
    "\n",
    "# # Scale numerical features\n",
    "# numerical_columns = df_train.select_dtypes(include=['int64', 'float64']).columns\n",
    "# scaler = StandardScaler()\n",
    "# df_train[numerical_columns] = scaler.fit_transform(df_train[numerical_columns])"
   ]
  },
  {
   "cell_type": "code",
   "execution_count": 146,
   "metadata": {},
   "outputs": [],
   "source": [
    "categorical_columns = df_train.select_dtypes(include=['object']).columns\n",
    "label_encoders = {}\n",
    "for col in categorical_columns:\n",
    "    label_encoders[col] = LabelEncoder()\n",
    "    df_train[col] = label_encoders[col].fit_transform(df_train[col])"
   ]
  },
  {
   "cell_type": "code",
   "execution_count": 132,
   "metadata": {},
   "outputs": [],
   "source": [
    "# Step 1: Identify Binary Ordinal Features\n",
    "binary_features = [col for col in df_train.columns if df_train[col].nunique() == 2]\n",
    "\n",
    "# Step 2: Identify Ordinal Features (discrete numeric features with small integer values)\n",
    "ordinal_features = []\n",
    "for col in df_train.columns:\n",
    "    if df_train[col].dtype in ['int64']: # Check for numeric columns\n",
    "        unique_values = df_train[col].unique()\n",
    "        if len(unique_values) > 2 and all(value == int(value) for value in unique_values): # Check if all values are integers\n",
    "            ordinal_features.append(col)\n"
   ]
  },
  {
   "cell_type": "code",
   "execution_count": 125,
   "metadata": {},
   "outputs": [],
   "source": [
    "# List of float columns to convert (replace with your actual column names)\n",
    "float_columns = [\n",
    "    'RealTimeProtectionState', 'AntivirusConfigID', 'NumAntivirusProductsInstalled', \n",
    "    'CityID', 'GeoRegionID', 'IsSystemProtected', 'SMode', 'IEVersionID', \n",
    "    'FirewallEnabled', 'EnableLUA', 'OEMNameID', 'OEMModelID',\n",
    "    'ProcessorCoreCount', 'ProcessorManufacturerID', 'ProcessorModelID',\n",
    "    'PrimaryDiskCapacityMB', 'SystemVolumeCapacityMB', 'TotalPhysicalRAMMB',\n",
    "    'PrimaryDisplayDiagonalInches', 'PrimaryDisplayResolutionHorizontal',\n",
    "    'PrimaryDisplayResolutionVertical', 'OSInstallLanguageID',\n",
    "    'IsFlightsDisabled', 'FirmwareManufacturerID','NumAntivirusProductsEnabled','IsAlwaysOnAlwaysConnectedCapable', \n",
    "    'IsGamer','RegionIdentifier','IsVirtualDevice','FirmwareVersionID'\n",
    "\n",
    "]\n",
    "\n",
    "# Ensure all columns exist in the DataFrame\n",
    "missing_columns = [col for col in float_columns if col not in df_train.columns]\n",
    "if missing_columns:\n",
    "    print(f\"Missing columns: {missing_columns}\")\n",
    "else:\n",
    "    # Fill missing values and convert to int\n",
    "    df_train[float_columns] = df_train[float_columns].fillna(-1).astype(int)\n"
   ]
  },
  {
   "cell_type": "code",
   "execution_count": 149,
   "metadata": {},
   "outputs": [],
   "source": [
    "X = df_train.drop(columns=['target'])\n",
    "y = df_train['target']"
   ]
  },
  {
   "cell_type": "code",
   "execution_count": null,
   "metadata": {},
   "outputs": [],
   "source": [
    "from sklearn.model_selection import train_test_split\n",
    "\n",
    "# Split data into training and testing sets (80:20 split)\n",
    "X_train, X_test, y_train, y_test = train_test_split(X, y, test_size=0.1, random_state=42, stratify=y)\n",
    "\n",
    "print(f\"\\nTraining Set Shape: {X_train.shape}\")\n",
    "print(f\"Testing Set Shape: {X_test.shape}\")\n"
   ]
  },
  {
   "cell_type": "code",
   "execution_count": null,
   "metadata": {},
   "outputs": [],
   "source": [
    "from sklearn.ensemble import GradientBoostingClassifier\n",
    "\n",
    "# Initialize Gradient Boosting Classifier\n",
    "classifier = GradientBoostingClassifier(random_state=42)\n",
    "\n",
    "# Train the model on the training set\n",
    "classifier.fit(X_train, y_train)\n",
    "\n",
    "print(\"\\nModel Training Completed.\")\n"
   ]
  },
  {
   "cell_type": "code",
   "execution_count": null,
   "metadata": {},
   "outputs": [],
   "source": [
    "from sklearn.metrics import classification_report, confusion_matrix\n",
    "\n",
    "# Predict on test data\n",
    "y_pred = classifier.predict(X_test)\n",
    "\n",
    "# Evaluate model performance\n",
    "print(\"\\nClassification Report:\")\n",
    "print(classification_report(y_test, y_pred))\n",
    "\n",
    "print(\"\\nConfusion Matrix:\")\n",
    "print(confusion_matrix(y_test, y_pred))\n"
   ]
  },
  {
   "cell_type": "code",
   "execution_count": null,
   "metadata": {},
   "outputs": [],
   "source": [
    "from sklearn.linear_model import LogisticRegression\n",
    "\n",
    "model1 = LogisticRegression()\n",
    "model1.fit(X_train, y_train)\n",
    "y_pred1 = model1.predict(X_test)"
   ]
  },
  {
   "cell_type": "code",
   "execution_count": 207,
   "metadata": {},
   "outputs": [],
   "source": [
    "from sklearn.neighbors import KNeighborsClassifier\n",
    "\n",
    "model2 = KNeighborsClassifier(n_neighbors=5)\n",
    "model2.fit(X_train, y_train)\n",
    "y_pred2 = model2.predict(X_test)"
   ]
  },
  {
   "cell_type": "code",
   "execution_count": null,
   "metadata": {},
   "outputs": [],
   "source": [
    "from sklearn.metrics import accuracy_score, classification_report\n",
    "\n",
    "y_pred2 = model2.predict(X_test)\n",
    "print(\"Accuracy:\", accuracy_score(y_test, y_pred))\n",
    "print(\"Classification Report:\\n\", classification_report(y_test, y_pred))"
   ]
  },
  {
   "cell_type": "code",
   "execution_count": null,
   "metadata": {},
   "outputs": [],
   "source": [
    "y_pred1 = model1.predict(X_test)\n",
    "print(\"Accuracy:\", accuracy_score(y_test, y_pred))\n",
    "print(\"Classification Report:\\n\", classification_report(y_test, y_pred))"
   ]
  },
  {
   "cell_type": "code",
   "execution_count": null,
   "metadata": {},
   "outputs": [],
   "source": [
    "y_pred = classifier.predict(X_test)\n",
    "print(\"Accuracy:\", accuracy_score(y_test, y_pred))\n",
    "print(\"Classification Report:\\n\", classification_report(y_test, y_pred))"
   ]
  },
  {
   "cell_type": "markdown",
   "metadata": {},
   "source": [
    "# Test Data"
   ]
  },
  {
   "cell_type": "code",
   "execution_count": 167,
   "metadata": {},
   "outputs": [],
   "source": [
    "object_col_test=df_test.select_dtypes(include=['object'])\n",
    "intcol_test=df_test.select_dtypes(include=['int64','float64'])"
   ]
  },
  {
   "cell_type": "code",
   "execution_count": 169,
   "metadata": {},
   "outputs": [],
   "source": [
    "df_test[object_col_test.columns] = df_test[object_col_test.columns].fillna(df_test[object_col_test.columns].mode().iloc[0])\n",
    "df_test[intcol_test.columns] = df_test[intcol_test.columns].fillna(df_test[intcol_test.columns].mean()) "
   ]
  },
  {
   "cell_type": "code",
   "execution_count": 189,
   "metadata": {},
   "outputs": [],
   "source": [
    "from sklearn.preprocessing import LabelEncoder, StandardScaler\n",
    "\n",
    "# Scale numerical features\n",
    "numerical_columns_test = df_test.select_dtypes(include=['int64', 'float64']).columns\n",
    "scaler = StandardScaler()\n",
    "df_test[numerical_columns_test] = scaler.fit_transform(df_test[numerical_columns_test])"
   ]
  },
  {
   "cell_type": "code",
   "execution_count": 191,
   "metadata": {},
   "outputs": [],
   "source": [
    "categorical_columns_test = df_test.select_dtypes(include=['object']).columns\n",
    "label_encoders = {}\n",
    "for col_test in categorical_columns_test:\n",
    "    label_encoders[col_test] = LabelEncoder()\n",
    "    df_test[col_test] = label_encoders[col_test].fit_transform(df_test[col_test])"
   ]
  },
  {
   "cell_type": "code",
   "execution_count": 171,
   "metadata": {},
   "outputs": [],
   "source": [
    "float_columns = [\n",
    "    'RealTimeProtectionState', 'AntivirusConfigID', 'NumAntivirusProductsInstalled', \n",
    "    'CityID', 'GeoRegionID', 'IsSystemProtected', 'SMode', 'IEVersionID', \n",
    "    'FirewallEnabled', 'EnableLUA', 'OEMNameID', 'OEMModelID',\n",
    "    'ProcessorCoreCount', 'ProcessorManufacturerID', 'ProcessorModelID',\n",
    "    'PrimaryDiskCapacityMB', 'SystemVolumeCapacityMB', 'TotalPhysicalRAMMB',\n",
    "    'PrimaryDisplayDiagonalInches', 'PrimaryDisplayResolutionHorizontal',\n",
    "    'PrimaryDisplayResolutionVertical', 'OSInstallLanguageID',\n",
    "    'IsFlightsDisabled', 'FirmwareManufacturerID','NumAntivirusProductsEnabled','IsAlwaysOnAlwaysConnectedCapable', \n",
    "    'IsGamer','RegionIdentifier','IsVirtualDevice','FirmwareVersionID'\n",
    "\n",
    "]\n",
    "\n",
    "# Ensure all columns exist in the DataFrame\n",
    "missing_columns = [col for col in float_columns if col not in df_test.columns]\n",
    "if missing_columns:\n",
    "    print(f\"Missing columns: {missing_columns}\")\n",
    "else:\n",
    "    # Fill missing values and convert to int\n",
    "    df_test[float_columns] = df_test[float_columns].fillna(-1).astype(int)"
   ]
  },
  {
   "cell_type": "code",
   "execution_count": null,
   "metadata": {},
   "outputs": [],
   "source": [
    "y_pred_test = classifier.predict(df_test)\n",
    "print(\"Accuracy:\", accuracy_score(y_test, y_pred_test))\n",
    "print(\"Classification Report:\\n\", classification_report(y_test, y_pred_test))\n"
   ]
  },
  {
   "cell_type": "code",
   "execution_count": null,
   "metadata": {},
   "outputs": [],
   "source": [
    "y_pred1_test = model1.predict(df_test)\n",
    "print(\"Accuracy:\", accuracy_score(y_test, y_pred1_test))\n",
    "print(\"Classification Report:\\n\", classification_report(y_test, y_pred1_test))"
   ]
  },
  {
   "cell_type": "code",
   "execution_count": null,
   "metadata": {},
   "outputs": [],
   "source": [
    "y_pred2_test = model2.predict(X_test)\n",
    "print(\"Accuracy:\", accuracy_score(y_test, y_pred2_test))\n",
    "print(\"Classification Report:\\n\", classification_report(y_test, y_pred2_test))"
   ]
  }
 ],
 "metadata": {
  "kernelspec": {
   "display_name": "Python 3",
   "language": "python",
   "name": "python3"
  },
  "language_info": {
   "codemirror_mode": {
    "name": "ipython",
    "version": 3
   },
   "file_extension": ".py",
   "mimetype": "text/x-python",
   "name": "python",
   "nbconvert_exporter": "python",
   "pygments_lexer": "ipython3",
   "version": "3.12.3"
  }
 },
 "nbformat": 4,
 "nbformat_minor": 2
}
