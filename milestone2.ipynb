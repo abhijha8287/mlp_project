{
 "cells": [
  {
   "cell_type": "code",
   "execution_count": null,
   "metadata": {},
   "outputs": [],
   "source": [
    "import numpy as np \n",
    "import pandas as pd"
   ]
  },
  {
   "cell_type": "code",
   "execution_count": null,
   "metadata": {},
   "outputs": [],
   "source": [
    "df_train=pd.read_csv('train.csv')\n",
    "df_test=pd.read_csv('test.csv')\n",
    "pd.set_option('display.max_columns', None)"
   ]
  },
  {
   "cell_type": "code",
   "execution_count": null,
   "metadata": {},
   "outputs": [],
   "source": [
    "redundant_columns = [col for col in df_train.columns if df_train[col].nunique() == 1]\n",
    "\n",
    "print(\"Redundant Columns:\", redundant_columns)"
   ]
  },
  {
   "cell_type": "code",
   "execution_count": null,
   "metadata": {},
   "outputs": [],
   "source": [
    "# Convert DateAS to datetime and then to numeric (timestamp)\n",
    "df_train['DateAS'] = pd.to_datetime(df_train['DateAS']).apply(lambda x: x.timestamp())\n",
    "df_train['SignatureVersion'] = df_train['SignatureVersion'].apply(lambda x: int(x.replace('.', '')))\n",
    "\n",
    "# Calculate correlations for the given column pairs\n",
    "correlations = {\n",
    "    \"DateAS and SignatureVersion\": df_train['DateAS'].corr(df_train['SignatureVersion']),\n",
    "    \"OSBuildLab and NumericOSVersion\": df_train['OSBuildLab'].corr(df_train['NumericOSVersion']),\n",
    "    \"OSEdition and OSSkuFriendlyName\": df_train['OSEdition'].corr(df_train['OSSkuFriendlyName']),\n",
    "    \"OSProductSuite and OSSkuFriendlyName\": df_train['OSProductSuite'].corr(df_train['OSSkuFriendlyName'])\n",
    "}\n",
    "\n",
    "# Find the pair with the highest positive correlation\n",
    "highest_corr_pair = max(correlations, key=correlations.get)\n",
    "\n",
    "print(\"Correlations:\", correlations)\n",
    "print(\"Highest Positive Correlation:\", highest_corr_pair)"
   ]
  },
  {
   "cell_type": "code",
   "execution_count": null,
   "metadata": {},
   "outputs": [],
   "source": [
    "from sklearn.datasets import fetch_california_housing\n",
    "from sklearn.impute import SimpleImputer\n",
    "from sklearn.preprocessing import OrdinalEncoder\n",
    "from sklearn.model_selection import train_test_split\n",
    "from sklearn.linear_model import SGDClassifier\n",
    "from sklearn.metrics import accuracy_score\n",
    "import pandas as pd\n",
    "import numpy as np\n",
    "\n",
    "X = df_train.drop(columns=['target'])\n",
    "y = df_train['target']\n",
    "\n",
    "# Convert the target variable into binary classification (e.g., median house value > 2.5 is 1, else 0)\n",
    "\n",
    "\n",
    "# Step 1: Fill missing values with the most frequent strategy\n",
    "imputer = SimpleImputer(strategy='most_frequent')\n",
    "X_imputed = pd.DataFrame(imputer.fit_transform(X), columns=X.columns)\n",
    "\n",
    "# Step 2: Encode all object datatype columns in X using OrdinalEncoder\n",
    "object_columns = X_imputed.select_dtypes(include=['object']).columns\n",
    "encoder = OrdinalEncoder()\n",
    "if len(object_columns) > 0:\n",
    "    X_imputed[object_columns] = encoder.fit_transform(X_imputed[object_columns])\n",
    "\n",
    "# Step 3: Split the dataset into training and testing sets with test_size=0.2 and random_state=42\n",
    "X_train, X_test, y_train, y_test = train_test_split(X_imputed, y, test_size=0.2, random_state=42)\n",
    "\n",
    "# Step 4: Train SGDClassifier with default parameters and random_state=42\n",
    "clf = SGDClassifier(random_state=42)\n",
    "clf.fit(X_train, y_train)\n",
    "\n",
    "# Step 5: Make predictions and calculate accuracy score on the test data\n",
    "y_pred = clf.predict(X_test)\n",
    "accuracy = accuracy_score(y_test, y_pred)\n",
    "\n",
    "print(\"Accuracy Score:\", accuracy)\n"
   ]
  },
  {
   "cell_type": "code",
   "execution_count": 9,
   "metadata": {},
   "outputs": [
    {
     "name": "stdout",
     "output_type": "stream",
     "text": [
      "New number of columns in cat_df: 80\n"
     ]
    }
   ],
   "source": [
    "from sklearn.preprocessing import OneHotEncoder\n",
    "\n",
    "# Step 1: Selecting only columns of datatype 'object'\n",
    "cat_df = df_train.select_dtypes(include=['object'])\n",
    "\n",
    "# Step 2: Using OneHotEncoder for columns with <= 10 unique values\n",
    "encoder = OneHotEncoder(sparse_output=False, drop='first', handle_unknown='ignore')\n",
    "\n",
    "# Identifying columns with <= 10 unique values\n",
    "columns_to_encode = [col for col in cat_df.columns if cat_df[col].nunique() <= 10]\n",
    "\n",
    "# Applying OneHotEncoder to the selected columns\n",
    "encoded_data = encoder.fit_transform(cat_df[columns_to_encode])\n",
    "\n",
    "# Creating a new DataFrame with the encoded columns\n",
    "encoded_df = pd.DataFrame(encoded_data, columns=encoder.get_feature_names_out(columns_to_encode))\n",
    "\n",
    "# Combining the encoded columns with the original DataFrame (dropping original encoded columns)\n",
    "final_cat_df = pd.concat([cat_df.drop(columns=columns_to_encode), encoded_df], axis=1)\n",
    "\n",
    "# Step 3: Determining the new number of columns in cat_df\n",
    "new_column_count = final_cat_df.shape[1]\n",
    "print(\"New number of columns in cat_df:\", new_column_count)"
   ]
  },
  {
   "cell_type": "code",
   "execution_count": 10,
   "metadata": {},
   "outputs": [
    {
     "name": "stdout",
     "output_type": "stream",
     "text": [
      "Sum of all values in num_df: 1637476.0102631948\n"
     ]
    }
   ],
   "source": [
    "from sklearn.preprocessing import MinMaxScaler\n",
    "\n",
    "\n",
    "# Step 1: Create num_df with only columns of datatype int64 and float64\n",
    "num_df = df_train.select_dtypes(include=['int64', 'float64'])\n",
    "\n",
    "# Step 2: Apply MinMaxScaler on num_df\n",
    "scaler = MinMaxScaler()\n",
    "num_df_scaled = pd.DataFrame(scaler.fit_transform(num_df), columns=num_df.columns)\n",
    "\n",
    "# Step 3: Calculate the sum of all values in num_df_scaled\n",
    "total_sum = num_df_scaled.sum().sum()\n",
    "\n",
    "print(\"Sum of all values in num_df:\", total_sum)"
   ]
  }
 ],
 "metadata": {
  "kernelspec": {
   "display_name": "Python 3",
   "language": "python",
   "name": "python3"
  },
  "language_info": {
   "codemirror_mode": {
    "name": "ipython",
    "version": 3
   },
   "file_extension": ".py",
   "mimetype": "text/x-python",
   "name": "python",
   "nbconvert_exporter": "python",
   "pygments_lexer": "ipython3",
   "version": "3.12.3"
  }
 },
 "nbformat": 4,
 "nbformat_minor": 2
}
